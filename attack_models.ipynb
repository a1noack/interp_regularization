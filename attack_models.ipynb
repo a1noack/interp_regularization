{
 "cells": [
  {
   "cell_type": "code",
   "execution_count": 44,
   "metadata": {},
   "outputs": [],
   "source": [
    "import torch\n",
    "import numpy as np\n",
    "import torch.nn.functional as F\n",
    "import torch.optim as optim\n",
    "import torchvision\n",
    "import sys\n",
    "# sys.path.append(\"..\")\n",
    "import utils.utils as utils\n",
    "import utils.adv_ex_utils as aus\n",
    "import ir_utils.wide_resnet as wide_resnet\n",
    "import ir_utils.dataloaders\n",
    "from advertorch.attacks import GradientSignAttack, CarliniWagnerL2Attack, PGDAttack\n",
    "import statistics as stats\n",
    "import scipy.stats\n",
    "\n",
    "# makes default tensor a CUDA tensor so GPU can be used\n",
    "device = torch.device(1 if torch.cuda.is_available() else 'cpu')\n",
    "torch.cuda.set_device(device)\n",
    "if device != 'cpu':\n",
    "    torch.set_default_tensor_type('torch.cuda.FloatTensor')"
   ]
  },
  {
   "cell_type": "code",
   "execution_count": 45,
   "metadata": {},
   "outputs": [],
   "source": [
    "def mean_confidence_interval(data, confidence=0.95):\n",
    "    a = 1.0 * np.array(data)\n",
    "    n = len(a)\n",
    "    m, se = np.mean(a), scipy.stats.sem(a)\n",
    "    h = se * scipy.stats.t.ppf((1 + confidence) / 2., n-1)\n",
    "    return m, h"
   ]
  },
  {
   "cell_type": "code",
   "execution_count": 46,
   "metadata": {},
   "outputs": [],
   "source": [
    "def test(net):\n",
    "    correct = 0\n",
    "    adv_correct = 0\n",
    "    \n",
    "    for samples, labels in test_loader:\n",
    "        samples, labels = samples.to(device), labels.to(device)\n",
    "                \n",
    "        # for perturbed samples\n",
    "        adv_samples, adv_labels = aus.generate_adv_exs(samples, labels, adversary, num_per_samp=1)\n",
    "        adv_output = net(adv_samples)\n",
    "        adv_preds = adv_output.data.max(1, keepdim=True)[1]\n",
    "        adv_correct += adv_preds.eq(adv_labels.data.view_as(adv_preds)).sum().item()\n",
    "        \n",
    "        # for unperturbed test samples\n",
    "        output = net(samples)\n",
    "        preds = output.data.max(1, keepdim=True)[1]\n",
    "        correct += preds.eq(labels.data.view_as(preds)).sum().item()\n",
    "\n",
    "    adv_test_accuracy = 100. * float(adv_correct / len(test_loader.dataset))\n",
    "    test_accuracy = 100. * float(correct / len(test_loader.dataset))\n",
    "    \n",
    "    test_accuracies.append(test_accuracy)\n",
    "    adv_test_accuracies.append(adv_test_accuracy)"
   ]
  },
  {
   "cell_type": "code",
   "execution_count": 48,
   "metadata": {},
   "outputs": [],
   "source": [
    "d = {}\n",
    "\n",
    "MNIST_path = '../trained_models/MNIST/simplecnn_{}/model{}'\n",
    "MNIST_model_types = ['stdtrain', 'at', 'jr', 'ir', 'ir_permuted/rd1', 'ir_st_smoothgrad'] #'at', , ]\n",
    "\n",
    "CIFAR_10_path = '../trained_models/CIFAR-10/resnet_{}/model{}'\n",
    "CIFAR_10_model_types = ['stdtrain']#,'at','jr','ir']\n",
    "\n",
    "for model_type in CIFAR_10_model_types:\n",
    "    adv_test_accuracies = []\n",
    "    test_accuracies = []\n",
    "    \n",
    "    for i in range(6,11):\n",
    "        net = resnet.resnet20()\n",
    "        adversary = PGDAttack(predict=net, loss_fn=F.cross_entropy, eps=8/255., \n",
    "                      nb_iter=20, eps_iter=2/255., rand_init=True,\n",
    "                      clip_min=0., clip_max=1., ord=np.inf, targeted=False)\n",
    "#         adversary = CarliniWagnerL2Attack(predict=net, num_classes=10, confidence=0,\n",
    "#                  targeted=False, learning_rate=0.01,\n",
    "#                  binary_search_steps=9, max_iterations=10000,\n",
    "#                  abort_early=True, initial_const=1e-3,\n",
    "#                  clip_min=0., clip_max=1., loss_fn=None)\n",
    "        try:\n",
    "            net.load_state_dict(torch.load(CIFAR_10_path.format(model_type, i)))\n",
    "        except:\n",
    "            print('CANNOT LOAD MODEL: ', model_type, i)\n",
    "            continue\n",
    "        net.eval()\n",
    "        test(net)\n",
    "            \n",
    "    adv_ci = mean_confidence_interval(adv_test_accuracies)\n",
    "    std_ci = mean_confidence_interval(test_accuracies)\n",
    "    \n",
    "    d[model_type] = [adv_ci, std_ci]"
   ]
  },
  {
   "cell_type": "code",
   "execution_count": 51,
   "metadata": {},
   "outputs": [
    {
     "name": "stdout",
     "output_type": "stream",
     "text": [
      "stdtrain: 91.91 +/- 0.38\n"
     ]
    }
   ],
   "source": [
    "for m in d:\n",
    "    print(f'{m}: {d[m][1][0]:.2f} +/- {d[m][1][1]:.2f}')"
   ]
  }
 ],
 "metadata": {
  "kernelspec": {
   "display_name": "Python 3",
   "language": "python",
   "name": "python3"
  },
  "language_info": {
   "codemirror_mode": {
    "name": "ipython",
    "version": 3
   },
   "file_extension": ".py",
   "mimetype": "text/x-python",
   "name": "python",
   "nbconvert_exporter": "python",
   "pygments_lexer": "ipython3",
   "version": "3.7.7"
  }
 },
 "nbformat": 4,
 "nbformat_minor": 4
}
